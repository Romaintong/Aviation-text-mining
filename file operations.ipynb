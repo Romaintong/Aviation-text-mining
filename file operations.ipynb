{
 "cells": [
  {
   "cell_type": "code",
   "execution_count": 17,
   "metadata": {},
   "outputs": [
    {
     "ename": "TypeError",
     "evalue": "expected string or bytes-like object",
     "output_type": "error",
     "traceback": [
      "\u001b[1;31m---------------------------------------------------------------------------\u001b[0m",
      "\u001b[1;31mTypeError\u001b[0m                                 Traceback (most recent call last)",
      "\u001b[1;32mc:\\Users\\Lenovo\\Desktop\\近期任务\\H.外包业务\\数据分析外包任务\\2023.9-2023.12\\2.文本分析毕业论文设计\\master\\source\\操作文件.ipynb 单元格 1\u001b[0m line \u001b[0;36m1\n\u001b[0;32m     <a href='vscode-notebook-cell:/c%3A/Users/Lenovo/Desktop/%E8%BF%91%E6%9C%9F%E4%BB%BB%E5%8A%A1/H.%E5%A4%96%E5%8C%85%E4%B8%9A%E5%8A%A1/%E6%95%B0%E6%8D%AE%E5%88%86%E6%9E%90%E5%A4%96%E5%8C%85%E4%BB%BB%E5%8A%A1/2023.9-2023.12/2.%E6%96%87%E6%9C%AC%E5%88%86%E6%9E%90%E6%AF%95%E4%B8%9A%E8%AE%BA%E6%96%87%E8%AE%BE%E8%AE%A1/master/source/%E6%93%8D%E4%BD%9C%E6%96%87%E4%BB%B6.ipynb#W6sZmlsZQ%3D%3D?line=9'>10</a>\u001b[0m text_processor \u001b[39m=\u001b[39m TextProcessor()\n\u001b[0;32m     <a href='vscode-notebook-cell:/c%3A/Users/Lenovo/Desktop/%E8%BF%91%E6%9C%9F%E4%BB%BB%E5%8A%A1/H.%E5%A4%96%E5%8C%85%E4%B8%9A%E5%8A%A1/%E6%95%B0%E6%8D%AE%E5%88%86%E6%9E%90%E5%A4%96%E5%8C%85%E4%BB%BB%E5%8A%A1/2023.9-2023.12/2.%E6%96%87%E6%9C%AC%E5%88%86%E6%9E%90%E6%AF%95%E4%B8%9A%E8%AE%BA%E6%96%87%E8%AE%BE%E8%AE%A1/master/source/%E6%93%8D%E4%BD%9C%E6%96%87%E4%BB%B6.ipynb#W6sZmlsZQ%3D%3D?line=11'>12</a>\u001b[0m \u001b[39m# 处理以及替换\u001b[39;00m\n\u001b[1;32m---> <a href='vscode-notebook-cell:/c%3A/Users/Lenovo/Desktop/%E8%BF%91%E6%9C%9F%E4%BB%BB%E5%8A%A1/H.%E5%A4%96%E5%8C%85%E4%B8%9A%E5%8A%A1/%E6%95%B0%E6%8D%AE%E5%88%86%E6%9E%90%E5%A4%96%E5%8C%85%E4%BB%BB%E5%8A%A1/2023.9-2023.12/2.%E6%96%87%E6%9C%AC%E5%88%86%E6%9E%90%E6%AF%95%E4%B8%9A%E8%AE%BA%E6%96%87%E8%AE%BE%E8%AE%A1/master/source/%E6%93%8D%E4%BD%9C%E6%96%87%E4%BB%B6.ipynb#W6sZmlsZQ%3D%3D?line=13'>14</a>\u001b[0m train_content \u001b[39m=\u001b[39m text_processor\u001b[39m.\u001b[39;49mpreprocess_data(train_df[\u001b[39m'\u001b[39;49m\u001b[39mcontent\u001b[39;49m\u001b[39m'\u001b[39;49m])\n\u001b[0;32m     <a href='vscode-notebook-cell:/c%3A/Users/Lenovo/Desktop/%E8%BF%91%E6%9C%9F%E4%BB%BB%E5%8A%A1/H.%E5%A4%96%E5%8C%85%E4%B8%9A%E5%8A%A1/%E6%95%B0%E6%8D%AE%E5%88%86%E6%9E%90%E5%A4%96%E5%8C%85%E4%BB%BB%E5%8A%A1/2023.9-2023.12/2.%E6%96%87%E6%9C%AC%E5%88%86%E6%9E%90%E6%AF%95%E4%B8%9A%E8%AE%BA%E6%96%87%E8%AE%BE%E8%AE%A1/master/source/%E6%93%8D%E4%BD%9C%E6%96%87%E4%BB%B6.ipynb#W6sZmlsZQ%3D%3D?line=14'>15</a>\u001b[0m test_content \u001b[39m=\u001b[39m text_processor\u001b[39m.\u001b[39mpreprocess_data(test_df[\u001b[39m'\u001b[39m\u001b[39mcontent\u001b[39m\u001b[39m'\u001b[39m])\n\u001b[0;32m     <a href='vscode-notebook-cell:/c%3A/Users/Lenovo/Desktop/%E8%BF%91%E6%9C%9F%E4%BB%BB%E5%8A%A1/H.%E5%A4%96%E5%8C%85%E4%B8%9A%E5%8A%A1/%E6%95%B0%E6%8D%AE%E5%88%86%E6%9E%90%E5%A4%96%E5%8C%85%E4%BB%BB%E5%8A%A1/2023.9-2023.12/2.%E6%96%87%E6%9C%AC%E5%88%86%E6%9E%90%E6%AF%95%E4%B8%9A%E8%AE%BA%E6%96%87%E8%AE%BE%E8%AE%A1/master/source/%E6%93%8D%E4%BD%9C%E6%96%87%E4%BB%B6.ipynb#W6sZmlsZQ%3D%3D?line=15'>16</a>\u001b[0m train_df[\u001b[39m'\u001b[39m\u001b[39mcontent\u001b[39m\u001b[39m'\u001b[39m] \u001b[39m=\u001b[39m train_content\n",
      "File \u001b[1;32mc:\\Users\\Lenovo\\Desktop\\近期任务\\H.外包业务\\数据分析外包任务\\2023.9-2023.12\\2.文本分析毕业论文设计\\master\\source\\TextProcessor.py:30\u001b[0m, in \u001b[0;36mTextProcessor.preprocess_data\u001b[1;34m(self, data)\u001b[0m\n\u001b[0;32m     28\u001b[0m processed_data \u001b[39m=\u001b[39m []\n\u001b[0;32m     29\u001b[0m \u001b[39mfor\u001b[39;00m line \u001b[39min\u001b[39;00m data:\n\u001b[1;32m---> 30\u001b[0m     line \u001b[39m=\u001b[39m \u001b[39mself\u001b[39;49m\u001b[39m.\u001b[39;49mremove_special_characters(line)\n\u001b[0;32m     31\u001b[0m     line \u001b[39m=\u001b[39m \u001b[39mself\u001b[39m\u001b[39m.\u001b[39msegment_and_remove_stopwords(line)\n\u001b[0;32m     32\u001b[0m     processed_data\u001b[39m.\u001b[39mappend(line)\n",
      "File \u001b[1;32mc:\\Users\\Lenovo\\Desktop\\近期任务\\H.外包业务\\数据分析外包任务\\2023.9-2023.12\\2.文本分析毕业论文设计\\master\\source\\TextProcessor.py:14\u001b[0m, in \u001b[0;36mTextProcessor.remove_special_characters\u001b[1;34m(self, sentence)\u001b[0m\n\u001b[0;32m     12\u001b[0m \u001b[39mdef\u001b[39;00m \u001b[39mremove_special_characters\u001b[39m(\u001b[39mself\u001b[39m, sentence):\n\u001b[0;32m     13\u001b[0m     r \u001b[39m=\u001b[39m \u001b[39m\"\u001b[39m\u001b[39m[A-Za-z0-9_.!+-=——,$\u001b[39m\u001b[39m%\u001b[39m\u001b[39m^，。？、~@#￥\u001b[39m\u001b[39m%\u001b[39m\u001b[39m……&*《》<>「」\u001b[39m\u001b[39m{}\u001b[39;00m\u001b[39m【】()/]\u001b[39m\u001b[39m\"\u001b[39m\n\u001b[1;32m---> 14\u001b[0m     sentence \u001b[39m=\u001b[39m re\u001b[39m.\u001b[39;49msub(r, \u001b[39m'\u001b[39;49m\u001b[39m \u001b[39;49m\u001b[39m'\u001b[39;49m, sentence)\n\u001b[0;32m     15\u001b[0m     \u001b[39mreturn\u001b[39;00m sentence\n",
      "File \u001b[1;32md:\\anaconda\\lib\\re.py:209\u001b[0m, in \u001b[0;36msub\u001b[1;34m(pattern, repl, string, count, flags)\u001b[0m\n\u001b[0;32m    202\u001b[0m \u001b[39mdef\u001b[39;00m \u001b[39msub\u001b[39m(pattern, repl, string, count\u001b[39m=\u001b[39m\u001b[39m0\u001b[39m, flags\u001b[39m=\u001b[39m\u001b[39m0\u001b[39m):\n\u001b[0;32m    203\u001b[0m     \u001b[39m\"\"\"Return the string obtained by replacing the leftmost\u001b[39;00m\n\u001b[0;32m    204\u001b[0m \u001b[39m    non-overlapping occurrences of the pattern in string by the\u001b[39;00m\n\u001b[0;32m    205\u001b[0m \u001b[39m    replacement repl.  repl can be either a string or a callable;\u001b[39;00m\n\u001b[0;32m    206\u001b[0m \u001b[39m    if a string, backslash escapes in it are processed.  If it is\u001b[39;00m\n\u001b[0;32m    207\u001b[0m \u001b[39m    a callable, it's passed the Match object and must return\u001b[39;00m\n\u001b[0;32m    208\u001b[0m \u001b[39m    a replacement string to be used.\"\"\"\u001b[39;00m\n\u001b[1;32m--> 209\u001b[0m     \u001b[39mreturn\u001b[39;00m _compile(pattern, flags)\u001b[39m.\u001b[39;49msub(repl, string, count)\n",
      "\u001b[1;31mTypeError\u001b[0m: expected string or bytes-like object"
     ]
    }
   ],
   "source": [
    "import pandas as pd \n",
    "from NaiveBayesClassifier import NaiveBayesClassifier\n",
    "from TextProcessor import TextProcessor\n",
    "\n",
    "train_df = pd.read_excel('../output/归因训练集以及测试集/标记好的归因训练的train集.xlsx').fillna('')\n",
    "test_df = pd.read_csv('../output/归因训练集以及测试集/归因训练的test集.csv').fillna('')\n",
    "\n",
    "# 分类器,文本处理器\n",
    "classifier = NaiveBayesClassifier()\n",
    "text_processor = TextProcessor()\n",
    "\n",
    "# 处理以及替换\n",
    "\n",
    "train_content = text_processor.preprocess_data(train_df['content'])\n",
    "test_content = text_processor.preprocess_data(test_df['content'])\n",
    "train_df['content'] = train_content\n",
    "test_df['content'] = test_content\n",
    "\n",
    "\n",
    "## 首先提取出reason及其对象进行大分类的标注，然后去除无关，提取type及其对象进一步标注\n",
    "\n",
    "# 提取大分类进行训练\n",
    "train_layer1_type = train_df.drop('type',axis=1)\n",
    "train_layer1_type['reason'] =  [item.strip() for item in train_layer1_type['reason'] ]\n",
    "train_content = train_layer1_type['content']\n",
    "test_content = test_df['content']\n",
    "predicted_labels = classifier.classify(train_content, train_layer1_type['reason'], test_content)\n",
    "predicted_labels_df = pd.DataFrame(data=predicted_labels, columns=['reason'])\n",
    "test_layer1_df = pd.concat([test_df, predicted_labels_df], axis=1)\n",
    "\n",
    "# 提取小分类进行训练\n",
    "out_df = test_layer1_df[test_layer1_df['reason'] == '外']\n",
    "in_df = test_layer1_df[test_layer1_df['reason'] == '内']\n",
    "none_type_df =test_layer1_df[test_layer1_df['reason'] == '无关'] \n",
    "\n",
    "# 对于外，首先提取训练集外的df，获得content和df，然后提取测试集的content，按照格式粘贴回去\n",
    "train_layer2_type_out_df = train_df[train_df['reason']=='外'].drop('reason',axis=1)\n",
    "train_content = train_layer2_type_out_df['content']\n",
    "train_label = [item.strip() for item in train_layer2_type_out_df['type'] ]\n",
    "test_content = out_df['content']\n",
    "predicted_labels = classifier.classify(train_content, train_label, test_content)\n",
    "predicted_labels_df = pd.DataFrame(data=predicted_labels, columns=['type'])\n",
    "test_layer2_type_out_df = pd.concat([out_df.reset_index(drop=True), predicted_labels_df], axis=1,ignore_index=True)\n",
    "\n",
    "# 对于内\n",
    "train_layer2_type_in_df = train_df[train_df['reason']=='内'].drop('reason',axis=1)\n",
    "train_content = train_layer2_type_in_df['content']\n",
    "train_label = [item.strip() for item in train_layer2_type_in_df['type'] ]\n",
    "test_content = in_df['content']\n",
    "predicted_labels = classifier.classify(train_content, train_label, test_content)\n",
    "predicted_labels_df = pd.DataFrame(data=predicted_labels, columns=['type'])\n",
    "test_layer2_type_in_df = pd.concat([in_df.reset_index(drop=True), predicted_labels_df], axis=1,ignore_index=True)\n",
    "\n",
    "# 对于无关\n",
    "none_type_df['type'] = ''\n",
    "none_type_df = none_type_df.reset_index(drop=True)\n",
    "\n",
    "# 三个子类竖向拼接，然后train和test竖向拼接\n",
    "test_layer2_type_out_df.columns = train_df.columns.tolist()\n",
    "test_layer2_type_in_df.columns = train_df.columns.tolist()\n",
    "all_df = pd.concat([test_layer2_type_out_df,test_layer2_type_in_df,none_type_df,train_df],axis=0)\n",
    "all_df = all_df.reset_index(drop=True)\n",
    "all_df.to_csv('../output/归因训练集以及测试集/归因后的全部数据集.csv',index=False)"
   ]
  }
 ],
 "metadata": {
  "kernelspec": {
   "display_name": "base",
   "language": "python",
   "name": "python3"
  },
  "language_info": {
   "codemirror_mode": {
    "name": "ipython",
    "version": 3
   },
   "file_extension": ".py",
   "mimetype": "text/x-python",
   "name": "python",
   "nbconvert_exporter": "python",
   "pygments_lexer": "ipython3",
   "version": "3.10.9"
  },
  "orig_nbformat": 4
 },
 "nbformat": 4,
 "nbformat_minor": 2
}
